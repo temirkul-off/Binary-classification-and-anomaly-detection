{
 "cells": [
  {
   "cell_type": "code",
   "execution_count": 18,
   "id": "34bc30dc-6d2e-41fb-acf4-a859609735d5",
   "metadata": {},
   "outputs": [],
   "source": [
    "import pandas as pd\n",
    "from sklearn.model_selection import train_test_split\n",
    "from sklearn.model_selection import cross_val_score\n",
    "from sklearn.preprocessing import StandardScaler\n",
    "from sklearn.linear_model import LogisticRegression\n",
    "from sklearn.metrics import classification_report, confusion_matrix, accuracy_score\n",
    "from sklearn.metrics import make_scorer, recall_score, precision_score, f1_score\n",
    "from tensorflow import keras\n",
    "from tensorflow.keras import layers\n",
    "\n",
    "%run \"02. EDA.ipynb\""
   ]
  },
  {
   "cell_type": "code",
   "execution_count": 15,
   "id": "bdd2af30-99ad-4963-921f-9c5e91c0429b",
   "metadata": {},
   "outputs": [
    {
     "name": "stdout",
     "output_type": "stream",
     "text": [
      "Confusion Matrix:\n",
      " [[502  18]\n",
      " [ 70  40]]\n",
      "\n",
      "Classification Report:\n",
      "               precision    recall  f1-score   support\n",
      "\n",
      "           0       0.88      0.97      0.92       520\n",
      "           1       0.69      0.36      0.48       110\n",
      "\n",
      "    accuracy                           0.86       630\n",
      "   macro avg       0.78      0.66      0.70       630\n",
      "weighted avg       0.84      0.86      0.84       630\n",
      "\n",
      "\n",
      "Accuracy Score: 0.8603174603174604\n"
     ]
    }
   ],
   "source": [
    "features = ['Call Failure', \n",
    "            'Complains', \n",
    "            'Subscription Length', \n",
    "            'Charge Amount', \n",
    "            'Seconds of Use',\n",
    "            'Frequency of use', \n",
    "            'Frequency of SMS', \n",
    "            'Distinct Called Numbers']\n",
    "target = 'Churn'\n",
    "\n",
    "X = df2[features]\n",
    "y = df2[target]\n",
    "\n",
    "X_train, X_test, y_train, y_test = train_test_split(X, y, test_size=0.2, random_state=42)\n",
    "\n",
    "scaler = StandardScaler()\n",
    "X_train_scaled = scaler.fit_transform(X_train)\n",
    "X_test_scaled = scaler.transform(X_test)\n",
    "\n",
    "model = LogisticRegression(random_state=42)\n",
    "model.fit(X_train_scaled, y_train)\n",
    "\n",
    "y_pred = model.predict(X_test_scaled)\n",
    "\n",
    "print(\"Confusion Matrix:\\n\", confusion_matrix(y_test, y_pred))\n",
    "print(\"\\nClassification Report:\\n\", classification_report(y_test, y_pred))\n",
    "print(\"\\nAccuracy Score:\", accuracy_score(y_test, y_pred))"
   ]
  },
  {
   "cell_type": "code",
   "execution_count": 16,
   "id": "dd1595c5-cf15-4ce9-8f9f-c8d3e976aa64",
   "metadata": {},
   "outputs": [
    {
     "name": "stdout",
     "output_type": "stream",
     "text": [
      "Mean Accuracy: 0.8898412698412699\n",
      "Mean Precision: 0.8086355399591586\n",
      "Mean Recall: 0.39191919191919194\n",
      "Mean F1: 0.5274817753237004\n"
     ]
    }
   ],
   "source": [
    "\n",
    "features = ['Call Failure', \n",
    "            'Complains', \n",
    "            'Subscription Length', \n",
    "            'Charge Amount', \n",
    "            'Seconds of Use',\n",
    "            'Frequency of use', \n",
    "            'Frequency of SMS', \n",
    "            'Distinct Called Numbers']\n",
    "\n",
    "target = 'Churn'\n",
    "X = df2[features]\n",
    "y = df2[target]\n",
    "\n",
    "scaler = StandardScaler()\n",
    "X_scaled = scaler.fit_transform(X)\n",
    "\n",
    "model = LogisticRegression(random_state=42)\n",
    "\n",
    "scoring_metrics = {\n",
    "    'Accuracy': 'accuracy',\n",
    "    'Precision': make_scorer(precision_score),\n",
    "    'Recall': make_scorer(recall_score),\n",
    "    'F1': make_scorer(f1_score)\n",
    "}\n",
    "\n",
    "for metric, scoring_method in scoring_metrics.items():\n",
    "    cv_scores = cross_val_score(model, X_scaled, y, cv=5, scoring=scoring_method)\n",
    "    print(f\"Mean {metric}:\", cv_scores.mean())\n"
   ]
  },
  {
   "cell_type": "code",
   "execution_count": 20,
   "id": "1920d78d-85d5-4360-94d7-d5a0b501ac0b",
   "metadata": {},
   "outputs": [
    {
     "name": "stdout",
     "output_type": "stream",
     "text": [
      "Epoch 1/20\n",
      "63/63 [==============================] - 1s 7ms/step - loss: nan - accuracy: 0.8418 - val_loss: nan - val_accuracy: 0.8631\n",
      "Epoch 2/20\n",
      "63/63 [==============================] - 0s 4ms/step - loss: nan - accuracy: 0.8433 - val_loss: nan - val_accuracy: 0.8631\n",
      "Epoch 3/20\n",
      "63/63 [==============================] - 0s 3ms/step - loss: nan - accuracy: 0.8433 - val_loss: nan - val_accuracy: 0.8631\n",
      "Epoch 4/20\n",
      "63/63 [==============================] - 0s 4ms/step - loss: nan - accuracy: 0.8433 - val_loss: nan - val_accuracy: 0.8631\n",
      "Epoch 5/20\n",
      "63/63 [==============================] - 0s 4ms/step - loss: nan - accuracy: 0.8433 - val_loss: nan - val_accuracy: 0.8631\n",
      "Epoch 6/20\n",
      "63/63 [==============================] - 0s 5ms/step - loss: nan - accuracy: 0.8433 - val_loss: nan - val_accuracy: 0.8631\n",
      "Epoch 7/20\n",
      "63/63 [==============================] - 0s 3ms/step - loss: nan - accuracy: 0.8433 - val_loss: nan - val_accuracy: 0.8631\n",
      "Epoch 8/20\n",
      "63/63 [==============================] - 0s 4ms/step - loss: nan - accuracy: 0.8433 - val_loss: nan - val_accuracy: 0.8631\n",
      "Epoch 9/20\n",
      "63/63 [==============================] - 0s 3ms/step - loss: nan - accuracy: 0.8433 - val_loss: nan - val_accuracy: 0.8631\n",
      "Epoch 10/20\n",
      "63/63 [==============================] - 0s 4ms/step - loss: nan - accuracy: 0.8433 - val_loss: nan - val_accuracy: 0.8631\n",
      "Epoch 11/20\n",
      "63/63 [==============================] - 0s 4ms/step - loss: nan - accuracy: 0.8433 - val_loss: nan - val_accuracy: 0.8631\n",
      "Epoch 12/20\n",
      "63/63 [==============================] - 0s 4ms/step - loss: nan - accuracy: 0.8433 - val_loss: nan - val_accuracy: 0.8631\n",
      "Epoch 13/20\n",
      "63/63 [==============================] - 0s 3ms/step - loss: nan - accuracy: 0.8433 - val_loss: nan - val_accuracy: 0.8631\n",
      "Epoch 14/20\n",
      "63/63 [==============================] - 0s 3ms/step - loss: nan - accuracy: 0.8433 - val_loss: nan - val_accuracy: 0.8631\n",
      "Epoch 15/20\n",
      "63/63 [==============================] - 0s 5ms/step - loss: nan - accuracy: 0.8433 - val_loss: nan - val_accuracy: 0.8631\n",
      "Epoch 16/20\n",
      "63/63 [==============================] - 0s 4ms/step - loss: nan - accuracy: 0.8433 - val_loss: nan - val_accuracy: 0.8631\n",
      "Epoch 17/20\n",
      "63/63 [==============================] - 0s 4ms/step - loss: nan - accuracy: 0.8433 - val_loss: nan - val_accuracy: 0.8631\n",
      "Epoch 18/20\n",
      "63/63 [==============================] - 0s 5ms/step - loss: nan - accuracy: 0.8433 - val_loss: nan - val_accuracy: 0.8631\n",
      "Epoch 19/20\n",
      "63/63 [==============================] - 0s 5ms/step - loss: nan - accuracy: 0.8433 - val_loss: nan - val_accuracy: 0.8631\n",
      "Epoch 20/20\n",
      "63/63 [==============================] - 0s 4ms/step - loss: nan - accuracy: 0.8433 - val_loss: nan - val_accuracy: 0.8631\n",
      "20/20 [==============================] - 0s 2ms/step\n",
      "Accuracy: 0.8254\n"
     ]
    }
   ],
   "source": [
    "X = df[features]\n",
    "y = df[target]\n",
    "\n",
    "X_train, X_test, y_train, y_test = train_test_split(X, y, test_size=0.2, random_state=42)\n",
    "\n",
    "scaler = StandardScaler()\n",
    "X_train_scaled = scaler.fit_transform(X_train)\n",
    "X_test_scaled = scaler.transform(X_test)\n",
    "\n",
    "model = keras.Sequential([\n",
    "    layers.Dense(32, activation='relu', input_shape=(X_train.shape[1],)),\n",
    "    layers.Dense(16, activation='relu'),\n",
    "    layers.Dense(1, activation='sigmoid')  # Sigmoid for binary classification\n",
    "])\n",
    "\n",
    "model.compile(optimizer='adam', loss='binary_crossentropy', metrics=['accuracy'])\n",
    "\n",
    "model.fit(X_train_scaled, y_train, epochs=20, batch_size=32, validation_split=0.2)\n",
    "\n",
    "y_pred_proba = model.predict(X_test_scaled)\n",
    "y_pred = (y_pred_proba > 0.5).astype(int)\n",
    "\n",
    "accuracy = accuracy_score(y_test, y_pred)\n",
    "print(f\"Accuracy: {accuracy:.4f}\")"
   ]
  },
  {
   "cell_type": "code",
   "execution_count": null,
   "id": "8a513eeb-0ed2-49f6-baff-ac1fe5f48dea",
   "metadata": {},
   "outputs": [],
   "source": []
  }
 ],
 "metadata": {
  "kernelspec": {
   "display_name": "Python 3 (ipykernel)",
   "language": "python",
   "name": "python3"
  },
  "language_info": {
   "codemirror_mode": {
    "name": "ipython",
    "version": 3
   },
   "file_extension": ".py",
   "mimetype": "text/x-python",
   "name": "python",
   "nbconvert_exporter": "python",
   "pygments_lexer": "ipython3",
   "version": "3.11.4"
  }
 },
 "nbformat": 4,
 "nbformat_minor": 5
}
